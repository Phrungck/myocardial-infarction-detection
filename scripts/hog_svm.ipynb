{
 "cells": [
  {
   "cell_type": "code",
   "execution_count": 1,
   "id": "settled-payday",
   "metadata": {},
   "outputs": [],
   "source": [
    "import numpy as np\n",
    "import cv2 as cv\n",
    "import albumentations as albu\n",
    "import torch\n",
    "from sklearn.model_selection import train_test_split\n",
    "from sklearn.model_selection import KFold\n",
    "import sklearn.svm as svm\n",
    "from sklearn.multioutput import MultiOutputClassifier\n",
    "from sklearn.metrics import precision_recall_fscore_support,roc_auc_score, accuracy_score\n",
    "from matplotlib import pyplot as plt\n",
    "from sklearn.metrics import confusion_matrix\n",
    "from sklearn.ensemble import RandomForestClassifier\n",
    "from collections import Counter\n",
    "from imblearn.over_sampling import SMOTE\n",
    "from imblearn.under_sampling import RandomUnderSampler\n",
    "from imblearn.pipeline import Pipeline"
   ]
  },
  {
   "cell_type": "code",
   "execution_count": 2,
   "id": "sunset-neighbor",
   "metadata": {},
   "outputs": [
    {
     "name": "stdout",
     "output_type": "stream",
     "text": [
      "Accuracy:  0.7272727272727273\n",
      "(0.6071428571428571, 0.40476190476190477, 0.4857142857142857, None)\n"
     ]
    },
    {
     "data": {
      "text/plain": [
       "0.8777777777777778"
      ]
     },
     "execution_count": 2,
     "metadata": {},
     "output_type": "execute_result"
    }
   ],
   "source": [
    "#n=1\n",
    "\n",
    "X_train = np.load('Fold1_final_echo_hog_train.npy')\n",
    "q = np.load('Fold1_final_echo_hog_test.npy')\n",
    "w = np.load('Fold1_final_echo_hog_valid.npy')\n",
    "X_test = np.vstack((q,w))\n",
    "\n",
    "y_train = np.load('Fold1_echo_hog_lab_train.npy')\n",
    "z = np.load('Fold1_echo_hog_lab_test.npy')\n",
    "x = np.load('Fold1_echo_hog_lab_valid.npy')\n",
    "y_test = np.vstack((z,x))\n",
    "\n",
    "#LC = RandomForestClassifier(n_estimators=10)\n",
    "LC = svm.SVC(C=10,kernel='rbf')\n",
    "\n",
    "multilabel_classifier = MultiOutputClassifier(LC)#, n_jobs=-1)\n",
    "multilabel_classifier = multilabel_classifier.fit(X_train, y_train)\n",
    "\n",
    "y_test_pred = multilabel_classifier.predict(X_test)\n",
    "\n",
    "score_acc = accuracy_score(y_test.reshape(-1),y_test_pred.reshape(-1))\n",
    "prf = precision_recall_fscore_support(y_test.reshape(-1),y_test_pred.reshape(-1),average='binary')\n",
    "print('Accuracy: ', score_acc)\n",
    "print(prf)\n",
    "\n",
    "tn, fp, fn, tp = confusion_matrix(y_test.reshape(-1),y_test_pred.reshape(-1)).ravel()\n",
    "specificity = tn / (tn + fp)\n",
    "specificity"
   ]
  },
  {
   "cell_type": "code",
   "execution_count": 3,
   "id": "hourly-alexandria",
   "metadata": {},
   "outputs": [
    {
     "name": "stdout",
     "output_type": "stream",
     "text": [
      "Accuracy:  0.7651515151515151\n",
      "(0.6666666666666666, 0.45, 0.5373134328358209, None)\n"
     ]
    },
    {
     "data": {
      "text/plain": [
       "0.9021739130434783"
      ]
     },
     "execution_count": 3,
     "metadata": {},
     "output_type": "execute_result"
    }
   ],
   "source": [
    "#n=1\n",
    "\n",
    "X_train = np.load('Fold2_final_echo_hog_train.npy')\n",
    "q = np.load('Fold2_final_echo_hog_test.npy')\n",
    "w = np.load('Fold2_final_echo_hog_valid.npy')\n",
    "X_test = np.vstack((q,w))\n",
    "\n",
    "y_train = np.load('Fold2_echo_hog_lab_train.npy')\n",
    "z = np.load('Fold2_echo_hog_lab_test.npy')\n",
    "x = np.load('Fold2_echo_hog_lab_valid.npy')\n",
    "y_test = np.vstack((z,x))\n",
    "\n",
    "#LC = RandomForestClassifier(n_estimators=10)\n",
    "LC = svm.SVC(C=10,kernel='rbf')\n",
    "\n",
    "multilabel_classifier = MultiOutputClassifier(LC)#, n_jobs=-1)\n",
    "multilabel_classifier = multilabel_classifier.fit(X_train, y_train)\n",
    "\n",
    "y_test_pred = multilabel_classifier.predict(X_test)\n",
    "\n",
    "score_acc = accuracy_score(y_test.reshape(-1),y_test_pred.reshape(-1))\n",
    "prf = precision_recall_fscore_support(y_test.reshape(-1),y_test_pred.reshape(-1),average='binary')\n",
    "print('Accuracy: ', score_acc)\n",
    "print(prf)\n",
    "\n",
    "tn, fp, fn, tp = confusion_matrix(y_test.reshape(-1),y_test_pred.reshape(-1)).ravel()\n",
    "specificity = tn / (tn + fp)\n",
    "specificity"
   ]
  },
  {
   "cell_type": "code",
   "execution_count": 4,
   "id": "tamil-syntax",
   "metadata": {},
   "outputs": [
    {
     "name": "stdout",
     "output_type": "stream",
     "text": [
      "Accuracy:  0.6439393939393939\n",
      "(0.43478260869565216, 0.22727272727272727, 0.2985074626865672, None)\n"
     ]
    },
    {
     "data": {
      "text/plain": [
       "0.8522727272727273"
      ]
     },
     "execution_count": 4,
     "metadata": {},
     "output_type": "execute_result"
    }
   ],
   "source": [
    "#n=1\n",
    "\n",
    "X_train = np.load('Fold3_final_echo_hog_train.npy')\n",
    "q = np.load('Fold3_final_echo_hog_test.npy')\n",
    "w = np.load('Fold3_final_echo_hog_valid.npy')\n",
    "X_test = np.vstack((q,w))\n",
    "\n",
    "y_train = np.load('Fold3_echo_hog_lab_train.npy')\n",
    "z = np.load('Fold3_echo_hog_lab_test.npy')\n",
    "x = np.load('Fold3_echo_hog_lab_valid.npy')\n",
    "y_test = np.vstack((z,x))\n",
    "\n",
    "#LC = RandomForestClassifier(n_estimators=10)\n",
    "LC = svm.SVC(C=10,kernel='rbf')\n",
    "\n",
    "multilabel_classifier = MultiOutputClassifier(LC)#, n_jobs=-1)\n",
    "multilabel_classifier = multilabel_classifier.fit(X_train, y_train)\n",
    "\n",
    "y_test_pred = multilabel_classifier.predict(X_test)\n",
    "\n",
    "score_acc = accuracy_score(y_test.reshape(-1),y_test_pred.reshape(-1))\n",
    "prf = precision_recall_fscore_support(y_test.reshape(-1),y_test_pred.reshape(-1),average='binary')\n",
    "print('Accuracy: ', score_acc)\n",
    "print(prf)\n",
    "\n",
    "tn, fp, fn, tp = confusion_matrix(y_test.reshape(-1),y_test_pred.reshape(-1)).ravel()\n",
    "specificity = tn / (tn + fp)\n",
    "specificity"
   ]
  },
  {
   "cell_type": "code",
   "execution_count": 5,
   "id": "twenty-christopher",
   "metadata": {},
   "outputs": [
    {
     "name": "stdout",
     "output_type": "stream",
     "text": [
      "Accuracy:  0.7121212121212122\n",
      "(0.5555555555555556, 0.47619047619047616, 0.5128205128205129, None)\n"
     ]
    },
    {
     "data": {
      "text/plain": [
       "0.8222222222222222"
      ]
     },
     "execution_count": 5,
     "metadata": {},
     "output_type": "execute_result"
    }
   ],
   "source": [
    "#n=1\n",
    "\n",
    "X_train = np.load('Fold4_final_echo_hog_train.npy')\n",
    "q = np.load('Fold4_final_echo_hog_test.npy')\n",
    "w = np.load('Fold4_final_echo_hog_valid.npy')\n",
    "X_test = np.vstack((q,w))\n",
    "\n",
    "y_train = np.load('Fold4_echo_hog_lab_train.npy')\n",
    "z = np.load('Fold4_echo_hog_lab_test.npy')\n",
    "x = np.load('Fold4_echo_hog_lab_valid.npy')\n",
    "y_test = np.vstack((z,x))\n",
    "\n",
    "#LC = RandomForestClassifier(n_estimators=10)\n",
    "LC = svm.SVC(C=10,kernel='rbf')\n",
    "\n",
    "multilabel_classifier = MultiOutputClassifier(LC)#, n_jobs=-1)\n",
    "multilabel_classifier = multilabel_classifier.fit(X_train, y_train)\n",
    "\n",
    "y_test_pred = multilabel_classifier.predict(X_test)\n",
    "\n",
    "score_acc = accuracy_score(y_test.reshape(-1),y_test_pred.reshape(-1))\n",
    "prf = precision_recall_fscore_support(y_test.reshape(-1),y_test_pred.reshape(-1),average='binary')\n",
    "print('Accuracy: ', score_acc)\n",
    "print(prf)\n",
    "\n",
    "tn, fp, fn, tp = confusion_matrix(y_test.reshape(-1),y_test_pred.reshape(-1)).ravel()\n",
    "specificity = tn / (tn + fp)\n",
    "specificity"
   ]
  },
  {
   "cell_type": "code",
   "execution_count": 6,
   "id": "aggregate-college",
   "metadata": {},
   "outputs": [
    {
     "name": "stdout",
     "output_type": "stream",
     "text": [
      "Accuracy:  0.6507936507936508\n",
      "(0.47058823529411764, 0.38095238095238093, 0.42105263157894735, None)\n"
     ]
    },
    {
     "data": {
      "text/plain": [
       "0.7857142857142857"
      ]
     },
     "execution_count": 6,
     "metadata": {},
     "output_type": "execute_result"
    }
   ],
   "source": [
    "#n=1\n",
    "\n",
    "X_train = np.load('Fold5_final_echo_hog_train.npy')\n",
    "q = np.load('Fold5_final_echo_hog_test.npy')\n",
    "w = np.load('Fold5_final_echo_hog_valid.npy')\n",
    "X_test = np.vstack((q,w))\n",
    "\n",
    "y_train = np.load('Fold5_echo_hog_lab_train.npy')\n",
    "z = np.load('Fold5_echo_hog_lab_test.npy')\n",
    "x = np.load('Fold5_echo_hog_lab_valid.npy')\n",
    "y_test = np.vstack((z,x))\n",
    "\n",
    "#LC = RandomForestClassifier(n_estimators=10)\n",
    "LC = svm.SVC(C=10,kernel='rbf')\n",
    "\n",
    "multilabel_classifier = MultiOutputClassifier(LC)#, n_jobs=-1)\n",
    "multilabel_classifier = multilabel_classifier.fit(X_train, y_train)\n",
    "\n",
    "y_test_pred = multilabel_classifier.predict(X_test)\n",
    "\n",
    "score_acc = accuracy_score(y_test.reshape(-1),y_test_pred.reshape(-1))\n",
    "prf = precision_recall_fscore_support(y_test.reshape(-1),y_test_pred.reshape(-1),average='binary')\n",
    "print('Accuracy: ', score_acc)\n",
    "print(prf)\n",
    "\n",
    "tn, fp, fn, tp = confusion_matrix(y_test.reshape(-1),y_test_pred.reshape(-1)).ravel()\n",
    "specificity = tn / (tn + fp)\n",
    "specificity"
   ]
  }
 ],
 "metadata": {
  "kernelspec": {
   "display_name": "Python 3",
   "language": "python",
   "name": "python3"
  },
  "language_info": {
   "codemirror_mode": {
    "name": "ipython",
    "version": 3
   },
   "file_extension": ".py",
   "mimetype": "text/x-python",
   "name": "python",
   "nbconvert_exporter": "python",
   "pygments_lexer": "ipython3",
   "version": "3.8.8"
  }
 },
 "nbformat": 4,
 "nbformat_minor": 5
}
