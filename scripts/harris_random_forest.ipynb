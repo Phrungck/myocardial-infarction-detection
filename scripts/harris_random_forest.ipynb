{
 "cells": [
  {
   "cell_type": "code",
   "execution_count": 1,
   "id": "settled-payday",
   "metadata": {},
   "outputs": [],
   "source": [
    "import numpy as np\n",
    "import cv2 as cv\n",
    "import albumentations as albu\n",
    "import torch\n",
    "from sklearn.model_selection import train_test_split\n",
    "from sklearn.model_selection import KFold\n",
    "import sklearn.svm as svm\n",
    "from sklearn.multioutput import MultiOutputClassifier\n",
    "from sklearn.metrics import precision_recall_fscore_support,roc_auc_score, accuracy_score\n",
    "from matplotlib import pyplot as plt\n",
    "from sklearn.metrics import confusion_matrix\n",
    "from sklearn.ensemble import RandomForestClassifier\n",
    "from collections import Counter\n",
    "from imblearn.over_sampling import SMOTE\n",
    "from imblearn.under_sampling import RandomUnderSampler\n",
    "from imblearn.pipeline import Pipeline"
   ]
  },
  {
   "cell_type": "code",
   "execution_count": 2,
   "id": "noble-flavor",
   "metadata": {},
   "outputs": [],
   "source": [
    "n = 3"
   ]
  },
  {
   "cell_type": "code",
   "execution_count": 3,
   "id": "julian-interim",
   "metadata": {},
   "outputs": [],
   "source": [
    "Use_balance = True"
   ]
  },
  {
   "cell_type": "code",
   "execution_count": 4,
   "id": "sunset-neighbor",
   "metadata": {},
   "outputs": [
    {
     "name": "stdout",
     "output_type": "stream",
     "text": [
      "Accuracy:  0.7727272727272727\n",
      "(0.6428571428571429, 0.6428571428571429, 0.6428571428571429, None)\n"
     ]
    },
    {
     "data": {
      "text/plain": [
       "0.8333333333333334"
      ]
     },
     "execution_count": 4,
     "metadata": {},
     "output_type": "execute_result"
    }
   ],
   "source": [
    "#n=1\n",
    "\n",
    "X_train = np.load('Fold1_final_echo_corner_train.npy')\n",
    "q = np.load('Fold1_final_echo_corner_test.npy')\n",
    "w = np.load('Fold1_final_echo_corner_valid.npy')\n",
    "X_test = np.vstack((q,w))\n",
    "\n",
    "y_train = np.load('Fold1_echo_corner_lab_train.npy')\n",
    "z = np.load('Fold1_echo_corner_lab_test.npy')\n",
    "x = np.load('Fold1_echo_corner_lab_valid.npy')\n",
    "y_test = np.vstack((z,x))\n",
    "\n",
    "#permutation = [4,5,2,3,0,1,6,7,8,9,10,11]\n",
    "#permutation = [2,1,0,3,4,5]\n",
    "permutation = [6,7,8,3,4,5,0,1,2,9,10,11,12,13,14,15,16,17]\n",
    "#permutation = [10,11,12,13,14,5,6,7,8,9,0,1,2,3,4,15,16,17,18,19,20,21,22,23,24,25,26,27,28,29]\n",
    "#permutation = [8,9,10,11,4,5,6,7,0,1,2,3,12,13,14,15,16,17,18,19,20,21,22,23]\n",
    "\n",
    "idx = np.empty_like(permutation)\n",
    "idx[permutation] = np.arange(len(permutation))\n",
    "X_train[:] = X_train[:, idx]  # return a rearranged copy\n",
    "X_test[:] = X_test[:, idx]\n",
    "\n",
    "y_train = y_train.reshape(-1)\n",
    "y_test = y_test.reshape(-1)\n",
    "X_train = X_train.reshape(-1,n)\n",
    "X_test = X_test.reshape(-1,n)\n",
    "\n",
    "if Use_balance:\n",
    "    oversampling = SMOTE(sampling_strategy={1:350})\n",
    "    #undersampling = RandomUnderSampler(sampling_strategy={\n",
    "             #0: 300,})\n",
    "    steps = [('over',oversampling)]#,('u',undersampling)]\n",
    "    pipeline = Pipeline(steps=steps)\n",
    "    X_train, y_train = pipeline.fit_resample(X_train, y_train)\n",
    "\n",
    "LC = RandomForestClassifier(n_estimators=10)\n",
    "#LC = svm.SVC(C=10,kernel='rbf')\n",
    "\n",
    "#multilabel_classifier = MultiOutputClassifier(LC)#, n_jobs=-1)\n",
    "multilabel_classifier = LC.fit(X_train, y_train)\n",
    "\n",
    "y_test_pred = multilabel_classifier.predict(X_test)\n",
    "\n",
    "score_acc = accuracy_score(y_test.reshape(-1),y_test_pred.reshape(-1))\n",
    "prf = precision_recall_fscore_support(y_test.reshape(-1),y_test_pred.reshape(-1),average='binary')\n",
    "print('Accuracy: ', score_acc)\n",
    "print(prf)\n",
    "\n",
    "tn, fp, fn, tp = confusion_matrix(y_test.reshape(-1),y_test_pred.reshape(-1)).ravel()\n",
    "specificity = tn / (tn + fp)\n",
    "specificity"
   ]
  },
  {
   "cell_type": "code",
   "execution_count": 5,
   "id": "standing-organic",
   "metadata": {},
   "outputs": [
    {
     "name": "stdout",
     "output_type": "stream",
     "text": [
      "Accuracy:  0.6893939393939394\n",
      "(0.4878048780487805, 0.5, 0.49382716049382713, None)\n"
     ]
    },
    {
     "data": {
      "text/plain": [
       "0.7717391304347826"
      ]
     },
     "execution_count": 5,
     "metadata": {},
     "output_type": "execute_result"
    }
   ],
   "source": [
    "X_train = np.load('Fold2_final_echo_corner_train.npy')\n",
    "q = np.load('Fold2_final_echo_corner_test.npy')\n",
    "w = np.load('Fold2_final_echo_corner_valid.npy')\n",
    "X_test = np.vstack((q,w))\n",
    "\n",
    "y_train = np.load('Fold2_echo_corner_lab_train.npy')\n",
    "z = np.load('Fold2_echo_corner_lab_test.npy')\n",
    "x = np.load('Fold2_echo_corner_lab_valid.npy')\n",
    "y_test = np.vstack((z,x))\n",
    "\n",
    "#permutation = [4,5,14,2,3,13,0,1,12,6,7,15,8,9,16,10,11,17]\n",
    "#permutation = [4,5,2,3,0,1,6,7,8,9,10,11]\n",
    "#permutation = [2,1,0,3,4,5]\n",
    "permutation = [6,7,8,3,4,5,0,1,2,9,10,11,12,13,14,15,16,17]\n",
    "#permutation = [10,11,12,13,14,5,6,7,8,9,0,1,2,3,4,15,16,17,18,19,20,21,22,23,24,25,26,27,28,29]\n",
    "\n",
    "idx = np.empty_like(permutation)\n",
    "idx[permutation] = np.arange(len(permutation))\n",
    "X_train[:] = X_train[:, idx]  # return a rearranged copy\n",
    "X_test[:] = X_test[:, idx]\n",
    "\n",
    "y_train = y_train.reshape(-1)\n",
    "y_test = y_test.reshape(-1)\n",
    "X_train = X_train.reshape(-1,n)\n",
    "X_test = X_test.reshape(-1,n)\n",
    "\n",
    "if Use_balance:\n",
    "    oversampling = SMOTE(sampling_strategy={1:350})\n",
    "    #undersampling = RandomUnderSampler(sampling_strategy={\n",
    "             #0: 300,})\n",
    "    steps = [('over',oversampling)]#,('u',undersampling)]\n",
    "    pipeline = Pipeline(steps=steps)\n",
    "    X_train, y_train = pipeline.fit_resample(X_train, y_train)\n",
    "    \n",
    "LC = RandomForestClassifier(n_estimators=10)\n",
    "#LC = svm.SVC(C=10,kernel='rbf')\n",
    "\n",
    "#multilabel_classifier = MultiOutputClassifier(LC)#, n_jobs=-1)\n",
    "multilabel_classifier = LC.fit(X_train, y_train)\n",
    "\n",
    "y_test_pred = multilabel_classifier.predict(X_test)\n",
    "\n",
    "score_acc = accuracy_score(y_test.reshape(-1),y_test_pred.reshape(-1))\n",
    "prf = precision_recall_fscore_support(y_test.reshape(-1),y_test_pred.reshape(-1),average='binary')\n",
    "print('Accuracy: ', score_acc)\n",
    "print(prf)\n",
    "\n",
    "tn, fp, fn, tp = confusion_matrix(y_test.reshape(-1),y_test_pred.reshape(-1)).ravel()\n",
    "specificity = tn / (tn + fp)\n",
    "specificity"
   ]
  },
  {
   "cell_type": "code",
   "execution_count": 6,
   "id": "successful-director",
   "metadata": {},
   "outputs": [
    {
     "name": "stdout",
     "output_type": "stream",
     "text": [
      "Accuracy:  0.6590909090909091\n",
      "(0.4878048780487805, 0.45454545454545453, 0.4705882352941176, None)\n"
     ]
    },
    {
     "data": {
      "text/plain": [
       "0.7613636363636364"
      ]
     },
     "execution_count": 6,
     "metadata": {},
     "output_type": "execute_result"
    }
   ],
   "source": [
    "X_train = np.load('Fold3_final_echo_corner_train.npy')\n",
    "q = np.load('Fold3_final_echo_corner_test.npy')\n",
    "w = np.load('Fold3_final_echo_corner_valid.npy')\n",
    "X_test = np.vstack((q,w))\n",
    "\n",
    "y_train = np.load('Fold3_echo_corner_lab_train.npy')\n",
    "z = np.load('Fold3_echo_corner_lab_test.npy')\n",
    "x = np.load('Fold3_echo_corner_lab_valid.npy')\n",
    "y_test = np.vstack((z,x))\n",
    "\n",
    "#permutation = [4,5,14,2,3,13,0,1,12,6,7,15,8,9,16,10,11,17]\n",
    "#permutation = [4,5,2,3,0,1,6,7,8,9,10,11]\n",
    "#permutation = [2,1,0,3,4,5]\n",
    "permutation = [6,7,8,3,4,5,0,1,2,9,10,11,12,13,14,15,16,17]\n",
    "idx = np.empty_like(permutation)\n",
    "idx[permutation] = np.arange(len(permutation))\n",
    "X_train[:] = X_train[:, idx]  # return a rearranged copy\n",
    "X_test[:] = X_test[:, idx]\n",
    "\n",
    "y_train = y_train.reshape(-1)\n",
    "y_test = y_test.reshape(-1)\n",
    "X_train = X_train.reshape(-1,n)\n",
    "X_test = X_test.reshape(-1,n)\n",
    "\n",
    "if Use_balance:\n",
    "    oversampling = SMOTE(sampling_strategy={1:350})\n",
    "    #undersampling = RandomUnderSampler(sampling_strategy={\n",
    "             #0: 300,})\n",
    "    steps = [('over',oversampling)]#,('u',undersampling)]\n",
    "    pipeline = Pipeline(steps=steps)\n",
    "    X_train, y_train = pipeline.fit_resample(X_train, y_train)\n",
    "    \n",
    "LC = RandomForestClassifier(n_estimators=10)\n",
    "#LC = svm.SVC(C=10,kernel='rbf')\n",
    "\n",
    "#multilabel_classifier = MultiOutputClassifier(LC)#, n_jobs=-1)\n",
    "multilabel_classifier = LC.fit(X_train.reshape(-1,n), y_train.reshape(-1))\n",
    "\n",
    "y_test_pred = multilabel_classifier.predict(X_test.reshape(-1,n))\n",
    "\n",
    "score_acc = accuracy_score(y_test.reshape(-1),y_test_pred.reshape(-1))\n",
    "prf = precision_recall_fscore_support(y_test.reshape(-1),y_test_pred.reshape(-1),average='binary')\n",
    "print('Accuracy: ', score_acc)\n",
    "print(prf)\n",
    "\n",
    "tn, fp, fn, tp = confusion_matrix(y_test.reshape(-1),y_test_pred.reshape(-1)).ravel()\n",
    "specificity = tn / (tn + fp)\n",
    "specificity"
   ]
  },
  {
   "cell_type": "code",
   "execution_count": 7,
   "id": "prime-screen",
   "metadata": {},
   "outputs": [
    {
     "name": "stdout",
     "output_type": "stream",
     "text": [
      "Accuracy:  0.75\n",
      "(0.6363636363636364, 0.5, 0.56, None)\n"
     ]
    },
    {
     "data": {
      "text/plain": [
       "0.8666666666666667"
      ]
     },
     "execution_count": 7,
     "metadata": {},
     "output_type": "execute_result"
    }
   ],
   "source": [
    "X_train = np.load('Fold4_final_echo_corner_train.npy')\n",
    "q = np.load('Fold4_final_echo_corner_test.npy')\n",
    "w = np.load('Fold4_final_echo_corner_valid.npy')\n",
    "X_test = np.vstack((q,w))\n",
    "\n",
    "y_train = np.load('Fold4_echo_corner_lab_train.npy')\n",
    "z = np.load('Fold4_echo_corner_lab_test.npy')\n",
    "x = np.load('Fold4_echo_corner_lab_valid.npy')\n",
    "y_test = np.vstack((z,x))\n",
    "\n",
    "#permutation = [4,5,14,2,3,13,0,1,12,6,7,15,8,9,16,10,11,17]\n",
    "#permutation = [4,5,2,3,0,1,6,7,8,9,10,11]\n",
    "#permutation = [2,1,0,3,4,5]\n",
    "permutation = [6,7,8,3,4,5,0,1,2,9,10,11,12,13,14,15,16,17]\n",
    "idx = np.empty_like(permutation)\n",
    "idx[permutation] = np.arange(len(permutation))\n",
    "X_train[:] = X_train[:, idx]  # return a rearranged copy\n",
    "X_test[:] = X_test[:, idx]\n",
    "\n",
    "y_train = y_train.reshape(-1)\n",
    "y_test = y_test.reshape(-1)\n",
    "X_train = X_train.reshape(-1,n)\n",
    "X_test = X_test.reshape(-1,n)\n",
    "\n",
    "if Use_balance:\n",
    "    oversampling = SMOTE(sampling_strategy={1:350})\n",
    "    #undersampling = RandomUnderSampler(sampling_strategy={\n",
    "             #0: 300,})\n",
    "    steps = [('over',oversampling)]#,('u',undersampling)]\n",
    "    pipeline = Pipeline(steps=steps)\n",
    "    X_train, y_train = pipeline.fit_resample(X_train, y_train)\n",
    "    \n",
    "LC = RandomForestClassifier(n_estimators=10)\n",
    "#LC = svm.SVC(C=10,kernel='rbf')\n",
    "\n",
    "#multilabel_classifier = MultiOutputClassifier(LC)#, n_jobs=-1)\n",
    "multilabel_classifier = LC.fit(X_train.reshape(-1,n), y_train.reshape(-1))\n",
    "\n",
    "y_test_pred = multilabel_classifier.predict(X_test.reshape(-1,n))\n",
    "\n",
    "score_acc = accuracy_score(y_test.reshape(-1),y_test_pred.reshape(-1))\n",
    "prf = precision_recall_fscore_support(y_test.reshape(-1),y_test_pred.reshape(-1),average='binary')\n",
    "print('Accuracy: ', score_acc)\n",
    "print(prf)\n",
    "\n",
    "tn, fp, fn, tp = confusion_matrix(y_test.reshape(-1),y_test_pred.reshape(-1)).ravel()\n",
    "specificity = tn / (tn + fp)\n",
    "specificity"
   ]
  },
  {
   "cell_type": "code",
   "execution_count": 8,
   "id": "rental-sleeping",
   "metadata": {},
   "outputs": [
    {
     "name": "stdout",
     "output_type": "stream",
     "text": [
      "Accuracy:  0.6666666666666666\n",
      "(0.5, 0.47619047619047616, 0.4878048780487805, None)\n"
     ]
    },
    {
     "data": {
      "text/plain": [
       "0.7619047619047619"
      ]
     },
     "execution_count": 8,
     "metadata": {},
     "output_type": "execute_result"
    }
   ],
   "source": [
    "X_train = np.load('Fold5_final_echo_corner_train.npy')\n",
    "q = np.load('Fold5_final_echo_corner_test.npy')\n",
    "w = np.load('Fold5_final_echo_corner_valid.npy')\n",
    "X_test = np.vstack((q,w))\n",
    "\n",
    "y_train = np.load('Fold5_echo_corner_lab_train.npy')\n",
    "z = np.load('Fold5_echo_corner_lab_test.npy')\n",
    "x = np.load('Fold5_echo_corner_lab_valid.npy')\n",
    "y_test = np.vstack((z,x))\n",
    "\n",
    "#permutation = [4,5,14,2,3,13,0,1,12,6,7,15,8,9,16,10,11,17]\n",
    "#permutation = [4,5,2,3,0,1,6,7,8,9,10,11]\n",
    "#permutation = [2,1,0,3,4,5]\n",
    "permutation = [6,7,8,3,4,5,0,1,2,9,10,11,12,13,14,15,16,17]\n",
    "idx = np.empty_like(permutation)\n",
    "idx[permutation] = np.arange(len(permutation))\n",
    "X_train[:] = X_train[:, idx]  # return a rearranged copy\n",
    "X_test[:] = X_test[:, idx]\n",
    "\n",
    "y_train = y_train.reshape(-1)\n",
    "y_test = y_test.reshape(-1)\n",
    "X_train = X_train.reshape(-1,n)\n",
    "X_test = X_test.reshape(-1,n)\n",
    "\n",
    "if Use_balance:\n",
    "    oversampling = SMOTE(sampling_strategy={1:350})\n",
    "    #undersampling = RandomUnderSampler(sampling_strategy={\n",
    "             #0: 300,})\n",
    "    steps = [('over',oversampling)]#,('u',undersampling)]\n",
    "    pipeline = Pipeline(steps=steps)\n",
    "    X_train, y_train = pipeline.fit_resample(X_train, y_train)\n",
    "    \n",
    "LC = RandomForestClassifier(n_estimators=10)\n",
    "#LC = svm.SVC(C=10,kernel='rbf')\n",
    "\n",
    "#multilabel_classifier = MultiOutputClassifier(LC)#, n_jobs=-1)\n",
    "multilabel_classifier = LC.fit(X_train.reshape(-1,n), y_train.reshape(-1))\n",
    "\n",
    "y_test_pred = multilabel_classifier.predict(X_test.reshape(-1,n))\n",
    "\n",
    "score_acc = accuracy_score(y_test.reshape(-1),y_test_pred.reshape(-1))\n",
    "prf = precision_recall_fscore_support(y_test.reshape(-1),y_test_pred.reshape(-1),average='binary')\n",
    "print('Accuracy: ', score_acc)\n",
    "print(prf)\n",
    "\n",
    "tn, fp, fn, tp = confusion_matrix(y_test.reshape(-1),y_test_pred.reshape(-1)).ravel()\n",
    "specificity = tn / (tn + fp)\n",
    "specificity"
   ]
  }
 ],
 "metadata": {
  "kernelspec": {
   "display_name": "Python 3",
   "language": "python",
   "name": "python3"
  },
  "language_info": {
   "codemirror_mode": {
    "name": "ipython",
    "version": 3
   },
   "file_extension": ".py",
   "mimetype": "text/x-python",
   "name": "python",
   "nbconvert_exporter": "python",
   "pygments_lexer": "ipython3",
   "version": "3.8.8"
  }
 },
 "nbformat": 4,
 "nbformat_minor": 5
}
