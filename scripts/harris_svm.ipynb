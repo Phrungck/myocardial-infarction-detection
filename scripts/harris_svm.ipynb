{
 "cells": [
  {
   "cell_type": "code",
   "execution_count": 1,
   "id": "settled-payday",
   "metadata": {},
   "outputs": [],
   "source": [
    "import numpy as np\n",
    "import cv2 as cv\n",
    "import albumentations as albu\n",
    "import torch\n",
    "from sklearn.model_selection import train_test_split\n",
    "from sklearn.model_selection import KFold\n",
    "import sklearn.svm as svm\n",
    "from sklearn.multioutput import MultiOutputClassifier\n",
    "from sklearn.metrics import precision_recall_fscore_support,roc_auc_score, accuracy_score\n",
    "from matplotlib import pyplot as plt\n",
    "from sklearn.metrics import confusion_matrix\n",
    "from sklearn.ensemble import RandomForestClassifier\n",
    "from collections import Counter\n",
    "from imblearn.pipeline import Pipeline\n",
    "import matplotlib.pyplot as plt\n",
    "from sklearn.datasets import make_classification\n",
    "from sklearn.model_selection import cross_validate\n",
    "from sklearn.model_selection import RepeatedStratifiedKFold\n",
    "from sklearn.ensemble import AdaBoostClassifier\n",
    "from imblearn.combine import SMOTEENN\n",
    "from imblearn.under_sampling import EditedNearestNeighbours\n",
    "from sklearn.metrics import confusion_matrix\n",
    "from imblearn.over_sampling import SMOTE"
   ]
  },
  {
   "cell_type": "code",
   "execution_count": 2,
   "id": "noble-flavor",
   "metadata": {},
   "outputs": [],
   "source": [
    "n = 3"
   ]
  },
  {
   "cell_type": "code",
   "execution_count": 3,
   "id": "julian-interim",
   "metadata": {},
   "outputs": [],
   "source": [
    "Use_balance = True"
   ]
  },
  {
   "cell_type": "markdown",
   "id": "excellent-coupon",
   "metadata": {},
   "source": [
    "if Use_balance:\n",
    "    oversampling = SMOTE(sampling_strategy={1:350})\n",
    "    #undersampling = RandomUnderSampler(sampling_strategy={\n",
    "             #0: 300,})\n",
    "    steps = [('over',oversampling)]#,('u',undersampling)]\n",
    "    pipeline = Pipeline(steps=steps)\n",
    "    X_train, y_train = pipeline.fit_resample(X_train, y_train)m"
   ]
  },
  {
   "cell_type": "code",
   "execution_count": 4,
   "id": "sunset-neighbor",
   "metadata": {
    "collapsed": true
   },
   "outputs": [
    {
     "name": "stdout",
     "output_type": "stream",
     "text": [
      "Accuracy:  0.7727272727272727\n",
      "(0.6, 0.8571428571428571, 0.7058823529411764, None)\n"
     ]
    },
    {
     "data": {
      "text/plain": [
       "0.7333333333333333"
      ]
     },
     "execution_count": 4,
     "metadata": {},
     "output_type": "execute_result"
    }
   ],
   "source": [
    "#n=1\n",
    "\n",
    "X_train = np.load('Fold1_final_echo_corner_train.npy')\n",
    "q = np.load('Fold1_final_echo_corner_test.npy')\n",
    "w = np.load('Fold1_final_echo_corner_valid.npy')\n",
    "X_test = np.vstack((q,w))\n",
    "\n",
    "y_train = np.load('Fold1_echo_corner_lab_train.npy')\n",
    "z = np.load('Fold1_echo_corner_lab_test.npy')\n",
    "x = np.load('Fold1_echo_corner_lab_valid.npy')\n",
    "y_test = np.vstack((z,x))\n",
    "\n",
    "#permutation = [4,5,2,3,0,1,6,7,8,9,10,11]\n",
    "#permutation = [4,5,14,2,3,13,0,1,12,6,7,15,8,9,16,10,11,17]\n",
    "permutation = [6,7,8,3,4,5,0,1,2,9,10,11,12,13,14,15,16,17]\n",
    "#permutation = [10,11,12,13,14,5,6,7,8,9,0,1,2,3,4,15,16,17,18,19,20,21,22,23,24,25,26,27,28,29]\n",
    "#permutation = [8,9,10,11,4,5,6,7,0,1,2,3,12,13,14,15,16,17,18,19,20,21,22,23]\n",
    "\n",
    "idx = np.empty_like(permutation)\n",
    "idx[permutation] = np.arange(len(permutation))\n",
    "X_train[:] = X_train[:, idx]  # return a rearranged copy\n",
    "X_test[:] = X_test[:, idx]\n",
    "\n",
    "y_train = y_train.reshape(-1)\n",
    "y_test = y_test.reshape(-1)\n",
    "X_train = X_train.reshape(-1,n)\n",
    "X_test = X_test.reshape(-1,n)\n",
    "\n",
    "if Use_balance:\n",
    "    ros = SMOTE(random_state=47)\n",
    "    X_train, y_train = ros.fit_resample(X_train, y_train)\n",
    "\n",
    "#LC = RandomForestClassifier(n_estimators=10)\n",
    "LC = svm.SVC(C=10,kernel='rbf')\n",
    "\n",
    "#multilabel_classifier = MultiOutputClassifier(LC)#, n_jobs=-1)\n",
    "multilabel_classifier = LC.fit(X_train, y_train)\n",
    "\n",
    "y_test_pred = multilabel_classifier.predict(X_test)\n",
    "\n",
    "score_acc = accuracy_score(y_test.reshape(-1),y_test_pred.reshape(-1))\n",
    "prf = precision_recall_fscore_support(y_test.reshape(-1),y_test_pred.reshape(-1),average='binary')\n",
    "print('Accuracy: ', score_acc)\n",
    "print(prf)\n",
    "\n",
    "tn, fp, fn, tp = confusion_matrix(y_test.reshape(-1),y_test_pred.reshape(-1)).ravel()\n",
    "specificity = tn / (tn + fp)\n",
    "specificity"
   ]
  },
  {
   "cell_type": "code",
   "execution_count": 5,
   "id": "standing-organic",
   "metadata": {},
   "outputs": [
    {
     "name": "stdout",
     "output_type": "stream",
     "text": [
      "Accuracy:  0.6893939393939394\n",
      "(0.4918032786885246, 0.75, 0.5940594059405939, None)\n"
     ]
    },
    {
     "data": {
      "text/plain": [
       "0.6630434782608695"
      ]
     },
     "execution_count": 5,
     "metadata": {},
     "output_type": "execute_result"
    }
   ],
   "source": [
    "X_train = np.load('Fold2_final_echo_corner_train.npy')\n",
    "q = np.load('Fold2_final_echo_corner_test.npy')\n",
    "w = np.load('Fold2_final_echo_corner_valid.npy')\n",
    "X_test = np.vstack((q,w))\n",
    "\n",
    "y_train = np.load('Fold2_echo_corner_lab_train.npy')\n",
    "z = np.load('Fold2_echo_corner_lab_test.npy')\n",
    "x = np.load('Fold2_echo_corner_lab_valid.npy')\n",
    "y_test = np.vstack((z,x))\n",
    "\n",
    "#permutation = [4,5,2,3,0,1,6,7,8,9,10,11]\n",
    "#permutation = [2,1,0,3,4,5]\n",
    "permutation = [6,7,8,3,4,5,0,1,2,9,10,11,12,13,14,15,16,17]\n",
    "#permutation = [10,11,12,13,14,5,6,7,8,9,0,1,2,3,4,15,16,17,18,19,20,21,22,23,24,25,26,27,28,29]\n",
    "\n",
    "idx = np.empty_like(permutation)\n",
    "idx[permutation] = np.arange(len(permutation))\n",
    "X_train[:] = X_train[:, idx]  # return a rearranged copy\n",
    "X_test[:] = X_test[:, idx]\n",
    "\n",
    "y_train = y_train.reshape(-1)\n",
    "y_test = y_test.reshape(-1)\n",
    "X_train = X_train.reshape(-1,n)\n",
    "X_test = X_test.reshape(-1,n)\n",
    "\n",
    "if Use_balance:\n",
    "    ros = SMOTE(random_state=47)\n",
    "    X_train, y_train = ros.fit_resample(X_train, y_train)\n",
    "    \n",
    "#LC = RandomForestClassifier(n_estimators=10)\n",
    "LC = svm.SVC(C=10,kernel='rbf')\n",
    "\n",
    "#multilabel_classifier = MultiOutputClassifier(LC)#, n_jobs=-1)\n",
    "multilabel_classifier = LC.fit(X_train, y_train)\n",
    "\n",
    "y_test_pred = multilabel_classifier.predict(X_test)\n",
    "\n",
    "score_acc = accuracy_score(y_test.reshape(-1),y_test_pred.reshape(-1))\n",
    "prf = precision_recall_fscore_support(y_test.reshape(-1),y_test_pred.reshape(-1),average='binary')\n",
    "print('Accuracy: ', score_acc)\n",
    "print(prf)\n",
    "\n",
    "tn, fp, fn, tp = confusion_matrix(y_test.reshape(-1),y_test_pred.reshape(-1)).ravel()\n",
    "specificity = tn / (tn + fp)\n",
    "specificity"
   ]
  },
  {
   "cell_type": "code",
   "execution_count": 6,
   "id": "successful-director",
   "metadata": {},
   "outputs": [
    {
     "name": "stdout",
     "output_type": "stream",
     "text": [
      "Accuracy:  0.7045454545454546\n",
      "(0.5454545454545454, 0.6818181818181818, 0.6060606060606061, None)\n"
     ]
    },
    {
     "data": {
      "text/plain": [
       "0.7159090909090909"
      ]
     },
     "execution_count": 6,
     "metadata": {},
     "output_type": "execute_result"
    }
   ],
   "source": [
    "X_train = np.load('Fold3_final_echo_corner_train.npy')\n",
    "q = np.load('Fold3_final_echo_corner_test.npy')\n",
    "w = np.load('Fold3_final_echo_corner_valid.npy')\n",
    "X_test = np.vstack((q,w))\n",
    "\n",
    "y_train = np.load('Fold3_echo_corner_lab_train.npy')\n",
    "z = np.load('Fold3_echo_corner_lab_test.npy')\n",
    "x = np.load('Fold3_echo_corner_lab_valid.npy')\n",
    "y_test = np.vstack((z,x))\n",
    "\n",
    "#permutation = [4,5,14,2,3,13,0,1,12,6,7,15,8,9,16,10,11,17]\n",
    "#permutation = [4,5,2,3,0,1,6,7,8,9,10,11]\n",
    "#permutation = [2,1,0,3,4,5]\n",
    "permutation = [6,7,8,3,4,5,0,1,2,9,10,11,12,13,14,15,16,17]\n",
    "idx = np.empty_like(permutation)\n",
    "idx[permutation] = np.arange(len(permutation))\n",
    "X_train[:] = X_train[:, idx]  # return a rearranged copy\n",
    "X_test[:] = X_test[:, idx]\n",
    "\n",
    "y_train = y_train.reshape(-1)\n",
    "y_test = y_test.reshape(-1)\n",
    "X_train = X_train.reshape(-1,n)\n",
    "X_test = X_test.reshape(-1,n)\n",
    "\n",
    "if Use_balance:\n",
    "    ros = SMOTE(random_state=47)\n",
    "    X_train, y_train = ros.fit_resample(X_train, y_train)\n",
    "    \n",
    "#LC = RandomForestClassifier(n_estimators=10)\n",
    "LC = svm.SVC(C=10,kernel='rbf')\n",
    "\n",
    "#multilabel_classifier = MultiOutputClassifier(LC)#, n_jobs=-1)\n",
    "multilabel_classifier = LC.fit(X_train.reshape(-1,n), y_train.reshape(-1))\n",
    "\n",
    "y_test_pred = multilabel_classifier.predict(X_test.reshape(-1,n))\n",
    "\n",
    "score_acc = accuracy_score(y_test.reshape(-1),y_test_pred.reshape(-1))\n",
    "prf = precision_recall_fscore_support(y_test.reshape(-1),y_test_pred.reshape(-1),average='binary')\n",
    "print('Accuracy: ', score_acc)\n",
    "print(prf)\n",
    "\n",
    "tn, fp, fn, tp = confusion_matrix(y_test.reshape(-1),y_test_pred.reshape(-1)).ravel()\n",
    "specificity = tn / (tn + fp)\n",
    "specificity"
   ]
  },
  {
   "cell_type": "code",
   "execution_count": 7,
   "id": "prime-screen",
   "metadata": {},
   "outputs": [
    {
     "name": "stdout",
     "output_type": "stream",
     "text": [
      "Accuracy:  0.7575757575757576\n",
      "(0.5961538461538461, 0.7380952380952381, 0.6595744680851063, None)\n"
     ]
    },
    {
     "data": {
      "text/plain": [
       "0.7666666666666667"
      ]
     },
     "execution_count": 7,
     "metadata": {},
     "output_type": "execute_result"
    }
   ],
   "source": [
    "X_train = np.load('Fold4_final_echo_corner_train.npy')\n",
    "q = np.load('Fold4_final_echo_corner_test.npy')\n",
    "w = np.load('Fold4_final_echo_corner_valid.npy')\n",
    "X_test = np.vstack((q,w))\n",
    "\n",
    "y_train = np.load('Fold4_echo_corner_lab_train.npy')\n",
    "z = np.load('Fold4_echo_corner_lab_test.npy')\n",
    "x = np.load('Fold4_echo_corner_lab_valid.npy')\n",
    "y_test = np.vstack((z,x))\n",
    "\n",
    "#permutation = [4,5,14,2,3,13,0,1,12,6,7,15,8,9,16,10,11,17]\n",
    "#permutation = [4,5,2,3,0,1,6,7,8,9,10,11]\n",
    "#permutation = [2,1,0,3,4,5]\n",
    "permutation = [6,7,8,3,4,5,0,1,2,9,10,11,12,13,14,15,16,17]\n",
    "idx = np.empty_like(permutation)\n",
    "idx[permutation] = np.arange(len(permutation))\n",
    "X_train[:] = X_train[:, idx]  # return a rearranged copy\n",
    "X_test[:] = X_test[:, idx]\n",
    "\n",
    "y_train = y_train.reshape(-1)\n",
    "y_test = y_test.reshape(-1)\n",
    "X_train = X_train.reshape(-1,n)\n",
    "X_test = X_test.reshape(-1,n)\n",
    "\n",
    "if Use_balance:\n",
    "    ros = SMOTE(random_state=47)\n",
    "    X_train, y_train = ros.fit_resample(X_train, y_train)\n",
    "    \n",
    "#LC = RandomForestClassifier(n_estimators=10)\n",
    "LC = svm.SVC(C=10,kernel='rbf')\n",
    "\n",
    "#multilabel_classifier = MultiOutputClassifier(LC)#, n_jobs=-1)\n",
    "multilabel_classifier = LC.fit(X_train.reshape(-1,n), y_train.reshape(-1))\n",
    "\n",
    "y_test_pred = multilabel_classifier.predict(X_test.reshape(-1,n))\n",
    "\n",
    "score_acc = accuracy_score(y_test.reshape(-1),y_test_pred.reshape(-1))\n",
    "prf = precision_recall_fscore_support(y_test.reshape(-1),y_test_pred.reshape(-1),average='binary')\n",
    "print('Accuracy: ', score_acc)\n",
    "print(prf)\n",
    "\n",
    "tn, fp, fn, tp = confusion_matrix(y_test.reshape(-1),y_test_pred.reshape(-1)).ravel()\n",
    "specificity = tn / (tn + fp)\n",
    "specificity"
   ]
  },
  {
   "cell_type": "code",
   "execution_count": 8,
   "id": "rental-sleeping",
   "metadata": {},
   "outputs": [
    {
     "name": "stdout",
     "output_type": "stream",
     "text": [
      "Accuracy:  0.6984126984126984\n",
      "(0.5434782608695652, 0.5952380952380952, 0.5681818181818181, None)\n"
     ]
    },
    {
     "data": {
      "text/plain": [
       "0.75"
      ]
     },
     "execution_count": 8,
     "metadata": {},
     "output_type": "execute_result"
    }
   ],
   "source": [
    "X_train = np.load('Fold5_final_echo_corner_train.npy')\n",
    "q = np.load('Fold5_final_echo_corner_test.npy')\n",
    "w = np.load('Fold5_final_echo_corner_valid.npy')\n",
    "X_test = np.vstack((q,w))\n",
    "\n",
    "y_train = np.load('Fold5_echo_corner_lab_train.npy')\n",
    "z = np.load('Fold5_echo_corner_lab_test.npy')\n",
    "x = np.load('Fold5_echo_corner_lab_valid.npy')\n",
    "y_test = np.vstack((z,x))\n",
    "\n",
    "#permutation = [4,5,14,2,3,13,0,1,12,6,7,15,8,9,16,10,11,17]\n",
    "#permutation = [4,5,2,3,0,1,6,7,8,9,10,11]\n",
    "#permutation = [2,1,0,3,4,5]\n",
    "permutation = [6,7,8,3,4,5,0,1,2,9,10,11,12,13,14,15,16,17]\n",
    "idx = np.empty_like(permutation)\n",
    "idx[permutation] = np.arange(len(permutation))\n",
    "X_train[:] = X_train[:, idx]  # return a rearranged copy\n",
    "X_test[:] = X_test[:, idx]\n",
    "\n",
    "y_train = y_train.reshape(-1)\n",
    "y_test = y_test.reshape(-1)\n",
    "X_train = X_train.reshape(-1,n)\n",
    "X_test = X_test.reshape(-1,n)\n",
    "\n",
    "if Use_balance:\n",
    "    ros = SMOTE(random_state=47)\n",
    "    X_train, y_train = ros.fit_resample(X_train, y_train)\n",
    "    \n",
    "#LC = RandomForestClassifier(n_estimators=10)\n",
    "LC = svm.SVC(C=10,kernel='rbf')\n",
    "\n",
    "#multilabel_classifier = MultiOutputClassifier(LC)#, n_jobs=-1)\n",
    "multilabel_classifier = LC.fit(X_train.reshape(-1,n), y_train.reshape(-1))\n",
    "\n",
    "y_test_pred = multilabel_classifier.predict(X_test.reshape(-1,n))\n",
    "\n",
    "score_acc = accuracy_score(y_test.reshape(-1),y_test_pred.reshape(-1))\n",
    "prf = precision_recall_fscore_support(y_test.reshape(-1),y_test_pred.reshape(-1),average='binary')\n",
    "print('Accuracy: ', score_acc)\n",
    "print(prf)\n",
    "\n",
    "tn, fp, fn, tp = confusion_matrix(y_test.reshape(-1),y_test_pred.reshape(-1)).ravel()\n",
    "specificity = tn / (tn + fp)\n",
    "specificity"
   ]
  }
 ],
 "metadata": {
  "kernelspec": {
   "display_name": "Python 3",
   "language": "python",
   "name": "python3"
  },
  "language_info": {
   "codemirror_mode": {
    "name": "ipython",
    "version": 3
   },
   "file_extension": ".py",
   "mimetype": "text/x-python",
   "name": "python",
   "nbconvert_exporter": "python",
   "pygments_lexer": "ipython3",
   "version": "3.8.8"
  }
 },
 "nbformat": 4,
 "nbformat_minor": 5
}
