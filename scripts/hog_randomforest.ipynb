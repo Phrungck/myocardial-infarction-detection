{
 "cells": [
  {
   "cell_type": "code",
   "execution_count": 1,
   "id": "settled-payday",
   "metadata": {},
   "outputs": [],
   "source": [
    "import numpy as np\n",
    "import cv2 as cv\n",
    "import albumentations as albu\n",
    "import torch\n",
    "from sklearn.model_selection import train_test_split\n",
    "from sklearn.model_selection import KFold\n",
    "import sklearn.svm as svm\n",
    "from sklearn.multioutput import MultiOutputClassifier\n",
    "from sklearn.metrics import precision_recall_fscore_support,roc_auc_score, accuracy_score\n",
    "from matplotlib import pyplot as plt\n",
    "from sklearn.metrics import confusion_matrix\n",
    "from sklearn.ensemble import RandomForestClassifier\n",
    "from collections import Counter\n",
    "from imblearn.over_sampling import SMOTE\n",
    "from imblearn.under_sampling import RandomUnderSampler\n",
    "from imblearn.pipeline import Pipeline"
   ]
  },
  {
   "cell_type": "code",
   "execution_count": 2,
   "id": "sunset-neighbor",
   "metadata": {},
   "outputs": [
    {
     "name": "stdout",
     "output_type": "stream",
     "text": [
      "Accuracy:  0.7121212121212122\n",
      "(0.6111111111111112, 0.2619047619047619, 0.36666666666666675, None)\n"
     ]
    },
    {
     "data": {
      "text/plain": [
       "0.9222222222222223"
      ]
     },
     "execution_count": 2,
     "metadata": {},
     "output_type": "execute_result"
    }
   ],
   "source": [
    "#n=1\n",
    "\n",
    "X_train = np.load('Fold1_final_echo_hog_train.npy')\n",
    "q = np.load('Fold1_final_echo_hog_test.npy')\n",
    "w = np.load('Fold1_final_echo_hog_valid.npy')\n",
    "X_test = np.vstack((q,w))\n",
    "\n",
    "y_train = np.load('Fold1_echo_hog_lab_train.npy')\n",
    "z = np.load('Fold1_echo_hog_lab_test.npy')\n",
    "x = np.load('Fold1_echo_hog_lab_valid.npy')\n",
    "y_test = np.vstack((z,x))\n",
    "\n",
    "LC = RandomForestClassifier(n_estimators=10)\n",
    "#LC = svm.SVC(C=10,kernel='rbf')\n",
    "\n",
    "multilabel_classifier = MultiOutputClassifier(LC)#, n_jobs=-1)\n",
    "multilabel_classifier = multilabel_classifier.fit(X_train, y_train)\n",
    "\n",
    "y_test_pred = multilabel_classifier.predict(X_test)\n",
    "\n",
    "score_acc = accuracy_score(y_test.reshape(-1),y_test_pred.reshape(-1))\n",
    "prf = precision_recall_fscore_support(y_test.reshape(-1),y_test_pred.reshape(-1),average='binary')\n",
    "print('Accuracy: ', score_acc)\n",
    "print(prf)\n",
    "\n",
    "tn, fp, fn, tp = confusion_matrix(y_test.reshape(-1),y_test_pred.reshape(-1)).ravel()\n",
    "specificity = tn / (tn + fp)\n",
    "specificity"
   ]
  },
  {
   "cell_type": "code",
   "execution_count": 7,
   "id": "martial-postcard",
   "metadata": {},
   "outputs": [
    {
     "name": "stdout",
     "output_type": "stream",
     "text": [
      "Accuracy:  0.6893939393939394\n",
      "(0.47368421052631576, 0.225, 0.30508474576271183, None)\n"
     ]
    },
    {
     "data": {
      "text/plain": [
       "0.8913043478260869"
      ]
     },
     "execution_count": 7,
     "metadata": {},
     "output_type": "execute_result"
    }
   ],
   "source": [
    "#n=1\n",
    "\n",
    "X_train = np.load('Fold2_final_echo_hog_train.npy')\n",
    "q = np.load('Fold2_final_echo_hog_test.npy')\n",
    "w = np.load('Fold2_final_echo_hog_valid.npy')\n",
    "X_test = np.vstack((q,w))\n",
    "\n",
    "y_train = np.load('Fold2_echo_hog_lab_train.npy')\n",
    "z = np.load('Fold2_echo_hog_lab_test.npy')\n",
    "x = np.load('Fold2_echo_hog_lab_valid.npy')\n",
    "y_test = np.vstack((z,x))\n",
    "\n",
    "LC = RandomForestClassifier(n_estimators=10)\n",
    "#LC = svm.SVC(C=10,kernel='rbf')\n",
    "\n",
    "multilabel_classifier = MultiOutputClassifier(LC)#, n_jobs=-1)\n",
    "multilabel_classifier = multilabel_classifier.fit(X_train, y_train)\n",
    "\n",
    "y_test_pred = multilabel_classifier.predict(X_test)\n",
    "\n",
    "score_acc = accuracy_score(y_test.reshape(-1),y_test_pred.reshape(-1))\n",
    "prf = precision_recall_fscore_support(y_test.reshape(-1),y_test_pred.reshape(-1),average='binary')\n",
    "print('Accuracy: ', score_acc)\n",
    "print(prf)\n",
    "\n",
    "tn, fp, fn, tp = confusion_matrix(y_test.reshape(-1),y_test_pred.reshape(-1)).ravel()\n",
    "specificity = tn / (tn + fp)\n",
    "specificity"
   ]
  },
  {
   "cell_type": "code",
   "execution_count": 8,
   "id": "arranged-slovakia",
   "metadata": {},
   "outputs": [
    {
     "name": "stdout",
     "output_type": "stream",
     "text": [
      "Accuracy:  0.6287878787878788\n",
      "(0.4, 0.22727272727272727, 0.2898550724637681, None)\n"
     ]
    },
    {
     "data": {
      "text/plain": [
       "0.8295454545454546"
      ]
     },
     "execution_count": 8,
     "metadata": {},
     "output_type": "execute_result"
    }
   ],
   "source": [
    "#n=1\n",
    "\n",
    "X_train = np.load('Fold3_final_echo_hog_train.npy')\n",
    "q = np.load('Fold3_final_echo_hog_test.npy')\n",
    "w = np.load('Fold3_final_echo_hog_valid.npy')\n",
    "X_test = np.vstack((q,w))\n",
    "\n",
    "y_train = np.load('Fold3_echo_hog_lab_train.npy')\n",
    "z = np.load('Fold3_echo_hog_lab_test.npy')\n",
    "x = np.load('Fold3_echo_hog_lab_valid.npy')\n",
    "y_test = np.vstack((z,x))\n",
    "\n",
    "LC = RandomForestClassifier(n_estimators=10)\n",
    "#LC = svm.SVC(C=10,kernel='rbf')\n",
    "\n",
    "multilabel_classifier = MultiOutputClassifier(LC)#, n_jobs=-1)\n",
    "multilabel_classifier = multilabel_classifier.fit(X_train, y_train)\n",
    "\n",
    "y_test_pred = multilabel_classifier.predict(X_test)\n",
    "\n",
    "score_acc = accuracy_score(y_test.reshape(-1),y_test_pred.reshape(-1))\n",
    "prf = precision_recall_fscore_support(y_test.reshape(-1),y_test_pred.reshape(-1),average='binary')\n",
    "print('Accuracy: ', score_acc)\n",
    "print(prf)\n",
    "\n",
    "tn, fp, fn, tp = confusion_matrix(y_test.reshape(-1),y_test_pred.reshape(-1)).ravel()\n",
    "specificity = tn / (tn + fp)\n",
    "specificity"
   ]
  },
  {
   "cell_type": "code",
   "execution_count": 9,
   "id": "ethical-library",
   "metadata": {},
   "outputs": [
    {
     "name": "stdout",
     "output_type": "stream",
     "text": [
      "Accuracy:  0.7121212121212122\n",
      "(0.5833333333333334, 0.3333333333333333, 0.4242424242424242, None)\n"
     ]
    },
    {
     "data": {
      "text/plain": [
       "0.8888888888888888"
      ]
     },
     "execution_count": 9,
     "metadata": {},
     "output_type": "execute_result"
    }
   ],
   "source": [
    "#n=1\n",
    "\n",
    "X_train = np.load('Fold4_final_echo_hog_train.npy')\n",
    "q = np.load('Fold4_final_echo_hog_test.npy')\n",
    "w = np.load('Fold4_final_echo_hog_valid.npy')\n",
    "X_test = np.vstack((q,w))\n",
    "\n",
    "y_train = np.load('Fold4_echo_hog_lab_train.npy')\n",
    "z = np.load('Fold4_echo_hog_lab_test.npy')\n",
    "x = np.load('Fold4_echo_hog_lab_valid.npy')\n",
    "y_test = np.vstack((z,x))\n",
    "\n",
    "LC = RandomForestClassifier(n_estimators=10)\n",
    "#LC = svm.SVC(C=10,kernel='rbf')\n",
    "\n",
    "multilabel_classifier = MultiOutputClassifier(LC)#, n_jobs=-1)\n",
    "multilabel_classifier = multilabel_classifier.fit(X_train, y_train)\n",
    "\n",
    "y_test_pred = multilabel_classifier.predict(X_test)\n",
    "\n",
    "score_acc = accuracy_score(y_test.reshape(-1),y_test_pred.reshape(-1))\n",
    "prf = precision_recall_fscore_support(y_test.reshape(-1),y_test_pred.reshape(-1),average='binary')\n",
    "print('Accuracy: ', score_acc)\n",
    "print(prf)\n",
    "\n",
    "tn, fp, fn, tp = confusion_matrix(y_test.reshape(-1),y_test_pred.reshape(-1)).ravel()\n",
    "specificity = tn / (tn + fp)\n",
    "specificity"
   ]
  },
  {
   "cell_type": "code",
   "execution_count": 10,
   "id": "outdoor-style",
   "metadata": {},
   "outputs": [
    {
     "name": "stdout",
     "output_type": "stream",
     "text": [
      "Accuracy:  0.6507936507936508\n",
      "(0.45, 0.21428571428571427, 0.29032258064516125, None)\n"
     ]
    },
    {
     "data": {
      "text/plain": [
       "0.8690476190476191"
      ]
     },
     "execution_count": 10,
     "metadata": {},
     "output_type": "execute_result"
    }
   ],
   "source": [
    "#n=1\n",
    "\n",
    "X_train = np.load('Fold5_final_echo_hog_train.npy')\n",
    "q = np.load('Fold5_final_echo_hog_test.npy')\n",
    "w = np.load('Fold5_final_echo_hog_valid.npy')\n",
    "X_test = np.vstack((q,w))\n",
    "\n",
    "y_train = np.load('Fold5_echo_hog_lab_train.npy')\n",
    "z = np.load('Fold5_echo_hog_lab_test.npy')\n",
    "x = np.load('Fold5_echo_hog_lab_valid.npy')\n",
    "y_test = np.vstack((z,x))\n",
    "\n",
    "LC = RandomForestClassifier(n_estimators=10)\n",
    "#LC = svm.SVC(C=10,kernel='rbf')\n",
    "\n",
    "multilabel_classifier = MultiOutputClassifier(LC)#, n_jobs=-1)\n",
    "multilabel_classifier = multilabel_classifier.fit(X_train, y_train)\n",
    "\n",
    "y_test_pred = multilabel_classifier.predict(X_test)\n",
    "\n",
    "score_acc = accuracy_score(y_test.reshape(-1),y_test_pred.reshape(-1))\n",
    "prf = precision_recall_fscore_support(y_test.reshape(-1),y_test_pred.reshape(-1),average='binary')\n",
    "print('Accuracy: ', score_acc)\n",
    "print(prf)\n",
    "\n",
    "tn, fp, fn, tp = confusion_matrix(y_test.reshape(-1),y_test_pred.reshape(-1)).ravel()\n",
    "specificity = tn / (tn + fp)\n",
    "specificity"
   ]
  }
 ],
 "metadata": {
  "kernelspec": {
   "display_name": "Python 3",
   "language": "python",
   "name": "python3"
  },
  "language_info": {
   "codemirror_mode": {
    "name": "ipython",
    "version": 3
   },
   "file_extension": ".py",
   "mimetype": "text/x-python",
   "name": "python",
   "nbconvert_exporter": "python",
   "pygments_lexer": "ipython3",
   "version": "3.8.8"
  }
 },
 "nbformat": 4,
 "nbformat_minor": 5
}
